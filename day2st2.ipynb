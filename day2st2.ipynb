{
 "cells": [
  {
   "cell_type": "code",
   "execution_count": 5,
   "id": "fb0e4537",
   "metadata": {},
   "outputs": [
    {
     "name": "stdout",
     "output_type": "stream",
     "text": [
      "5\n",
      "['cherry', 'orange', 'grape', 'blueberry', 'guava', 'apple']\n",
      "['cherry', 'grape', 'blueberry', 'guava', 'apple']\n",
      "['cherry', 'grape', 'blueberry', 'mango', 'guava', 'apple']\n",
      "['cherry', 'blueberry', 'mango', 'guava', 'apple']\n",
      "['apple', 'blueberry', 'cherry', 'guava', 'mango']\n",
      "['mango', 'guava', 'cherry', 'blueberry', 'apple']\n"
     ]
    }
   ],
   "source": [
    "fruits=['apple','orange','grape','blueberry','guava']\n",
    "print(len(fruits))\n",
    "fruits[0]=\"cherry\"\n",
    "fruits.append(\"apple\")\n",
    "print(fruits)\n",
    "fruits.pop(1)\n",
    "print(fruits)\n",
    "fruits.insert(3,\"mango\")\n",
    "print(fruits)\n",
    "fruits.remove(\"grape\")\n",
    "print(fruits)\n",
    "fruits.sort()\n",
    "print(fruits)\n",
    "fruits.reverse()\n",
    "print(fruits)"
   ]
  },
  {
   "cell_type": "code",
   "execution_count": 8,
   "id": "0e207f4c",
   "metadata": {},
   "outputs": [
    {
     "name": "stdout",
     "output_type": "stream",
     "text": [
      "True\n",
      "True\n",
      "False\n",
      "True\n"
     ]
    }
   ],
   "source": [
    "list1=[1,2,3,[4,5]]\n",
    "print(1 in list1)\n",
    "print([4,5] in list1)\n",
    "print(4 in list1)\n",
    "print(4 in list1[3])"
   ]
  },
  {
   "cell_type": "code",
   "execution_count": 12,
   "id": "617ad4fa",
   "metadata": {},
   "outputs": [
    {
     "name": "stdout",
     "output_type": "stream",
     "text": [
      "[1, 2, 3, [4, 5, [6, 7, 8], 9]]\n",
      "7\n"
     ]
    }
   ],
   "source": [
    "list2=[1,2,3,[4,5,[6,7,8],9]]\n",
    "print(list2)\n",
    "print(list2[3][2][1])"
   ]
  },
  {
   "cell_type": "code",
   "execution_count": null,
   "id": "2be16c2f",
   "metadata": {},
   "outputs": [
    {
     "name": "stdout",
     "output_type": "stream",
     "text": [
      "[1, 4, 9, 16, 25]\n"
     ]
    }
   ],
   "source": [
    "squares=[x**2 for x in range(1,6)]\n",
    "print(squares)"
   ]
  },
  {
   "cell_type": "code",
   "execution_count": 14,
   "id": "3a584d3f",
   "metadata": {},
   "outputs": [
    {
     "name": "stdout",
     "output_type": "stream",
     "text": [
      "['APPLE', 'BANANA', 'CHERRY']\n"
     ]
    }
   ],
   "source": [
    "words=['apple','banana','cherry']\n",
    "uppercased=[word.upper() for word in words]\n",
    "print(uppercased)"
   ]
  },
  {
   "cell_type": "code",
   "execution_count": 19,
   "id": "553e5ab5",
   "metadata": {},
   "outputs": [
    {
     "name": "stdout",
     "output_type": "stream",
     "text": [
      "{'orange', 'blueberry', 'guava', 'grape', 'apple'}\n",
      "['__and__', '__class__', '__class_getitem__', '__contains__', '__delattr__', '__dir__', '__doc__', '__eq__', '__format__', '__ge__', '__getattribute__', '__getstate__', '__gt__', '__hash__', '__iand__', '__init__', '__init_subclass__', '__ior__', '__isub__', '__iter__', '__ixor__', '__le__', '__len__', '__lt__', '__ne__', '__new__', '__or__', '__rand__', '__reduce__', '__reduce_ex__', '__repr__', '__ror__', '__rsub__', '__rxor__', '__setattr__', '__sizeof__', '__str__', '__sub__', '__subclasshook__', '__xor__', 'add', 'clear', 'copy', 'difference', 'difference_update', 'discard', 'intersection', 'intersection_update', 'isdisjoint', 'issubset', 'issuperset', 'pop', 'remove', 'symmetric_difference', 'symmetric_difference_update', 'union', 'update']\n",
      "{'blueberry', 'guava', 'grape', 'apple'}\n",
      "{'blueberry', 'guava', 'apple'}\n"
     ]
    }
   ],
   "source": [
    "notvegetables={'apple','orange','grape','blueberry','guava','apple'}\n",
    "print(notvegetables)\n",
    "print(dir(notvegetables))\n",
    "notvegetables.pop()\n",
    "print(notvegetables)\n",
    "notvegetables.remove('grape')\n",
    "print(notvegetables)"
   ]
  },
  {
   "cell_type": "code",
   "execution_count": 20,
   "id": "ea48020a",
   "metadata": {},
   "outputs": [],
   "source": [
    "set1={'a','b','c'}\n",
    "set1.remove(\"a\")\n",
    "set1.discard(\"a\")\n",
    "#discard doesnot throw erroe if the item u try to delete doesn't exist"
   ]
  },
  {
   "cell_type": "code",
   "execution_count": null,
   "id": "87193ebc",
   "metadata": {},
   "outputs": [
    {
     "name": "stdout",
     "output_type": "stream",
     "text": [
      "['__add__', '__class__', '__class_getitem__', '__contains__', '__delattr__', '__dir__', '__doc__', '__eq__', '__format__', '__ge__', '__getattribute__', '__getitem__', '__getnewargs__', '__getstate__', '__gt__', '__hash__', '__init__', '__init_subclass__', '__iter__', '__le__', '__len__', '__lt__', '__mul__', '__ne__', '__new__', '__reduce__', '__reduce_ex__', '__repr__', '__rmul__', '__setattr__', '__sizeof__', '__str__', '__subclasshook__', 'count', 'index']\n"
     ]
    }
   ],
   "source": [
    "falful=('apple','orange','grape','blueberry','guava','apple')\n",
    "print(dir(falful))\n",
    "\n"
   ]
  },
  {
   "cell_type": "code",
   "execution_count": 27,
   "id": "bd6b8480",
   "metadata": {},
   "outputs": [
    {
     "name": "stdout",
     "output_type": "stream",
     "text": [
      "('dairymilk', 'dark', 'kitkat', 'hideandseek', 'trople')\n"
     ]
    }
   ],
   "source": [
    "chocolate=('dairymilk','dark','kitkat')\n",
    "y=('hideandseek','trople')\n",
    "chocolate+=y\n",
    "print(chocolate)"
   ]
  },
  {
   "cell_type": "code",
   "execution_count": null,
   "id": "536c9aa5",
   "metadata": {},
   "outputs": [
    {
     "name": "stdout",
     "output_type": "stream",
     "text": [
      "dairymilk\n",
      "['dark', 'kitkat', 'hideandseek']\n",
      "trople\n"
     ]
    }
   ],
   "source": [
    "chocolate=('dairymilk','dark','kitkat','hideandseek','trople')\n",
    "# (blue,black,red)=chocolate\n",
    "(blue,*black,red)=chocolate\n",
    "print(blue)\n",
    "print(black)\n",
    "print(red)\n"
   ]
  },
  {
   "cell_type": "code",
   "execution_count": 6,
   "id": "a65ca61d",
   "metadata": {},
   "outputs": [
    {
     "name": "stdout",
     "output_type": "stream",
     "text": [
      "(1, 2, 3, (4, 5), 6)\n"
     ]
    }
   ],
   "source": [
    "tup=(1,2,3,(4,5),6)\n",
    "print(tup)\n"
   ]
  },
  {
   "cell_type": "code",
   "execution_count": 7,
   "id": "520c14d0",
   "metadata": {},
   "outputs": [
    {
     "name": "stdout",
     "output_type": "stream",
     "text": [
      "['b', 'i', 's', 'h', 'a', 'l']\n"
     ]
    },
    {
     "data": {
      "text/plain": [
       "['b', 'i', 's', 'h', 'a', 'l']"
      ]
     },
     "execution_count": 7,
     "metadata": {},
     "output_type": "execute_result"
    }
   ],
   "source": [
    "str=\"bishal\"\n",
    "a=[q for q in str]\n",
    "print(a)\n",
    "list(str)"
   ]
  },
  {
   "cell_type": "code",
   "execution_count": 8,
   "id": "c9a0c88d",
   "metadata": {},
   "outputs": [
    {
     "name": "stdout",
     "output_type": "stream",
     "text": [
      "[1, 'hello', 3.14, True] (1, 'hello', 3.14, True) {1, 3.14, 'hello'}\n"
     ]
    }
   ],
   "source": [
    "list=[1,\"hello\",3.14,True]\n",
    "tuple=(1,\"hello\",3.14,True)\n",
    "set={1,\"hello\",3.14,True}\n",
    "print(list,tuple,set)"
   ]
  },
  {
   "cell_type": "code",
   "execution_count": 10,
   "id": "c229b9a6",
   "metadata": {},
   "outputs": [
    {
     "name": "stdout",
     "output_type": "stream",
     "text": [
      "there is\n"
     ]
    }
   ],
   "source": [
    "fruits=['apple','orange','grape','blueberry','guava']\n",
    "for i in range(len(fruits)):\n",
    "    if fruits[i]==\"apple\":\n",
    "        print(\"there is\")\n"
   ]
  },
  {
   "cell_type": "code",
   "execution_count": 11,
   "id": "e0241464",
   "metadata": {},
   "outputs": [
    {
     "name": "stdout",
     "output_type": "stream",
     "text": [
      "['apple', 'orange', 'grape', 'blueberry', 'guava', 'apple', 'orange', 'grape', 'blueberry', 'guava']\n"
     ]
    }
   ],
   "source": [
    "print(fruits*2)"
   ]
  },
  {
   "cell_type": "code",
   "execution_count": 12,
   "id": "df2a9a78",
   "metadata": {},
   "outputs": [
    {
     "name": "stdout",
     "output_type": "stream",
     "text": [
      "{2: 'first', 'name': 'bishal', 'age': '21', 'courses': ['ladkibaji', 'chori']}\n",
      "['__class__', '__class_getitem__', '__contains__', '__delattr__', '__delitem__', '__dir__', '__doc__', '__eq__', '__format__', '__ge__', '__getattribute__', '__getitem__', '__getstate__', '__gt__', '__hash__', '__init__', '__init_subclass__', '__ior__', '__iter__', '__le__', '__len__', '__lt__', '__ne__', '__new__', '__or__', '__reduce__', '__reduce_ex__', '__repr__', '__reversed__', '__ror__', '__setattr__', '__setitem__', '__sizeof__', '__str__', '__subclasshook__', 'clear', 'copy', 'fromkeys', 'get', 'items', 'keys', 'pop', 'popitem', 'setdefault', 'update', 'values']\n",
      "{2: 'first', 'name': 'bishal', 'age': '21', 'courses': ['ladkibaji', 'chori'], 'status': 'multiple engagements'}\n",
      "{2: 'first', 'name': 'bishal', 'courses': ['ladkibaji', 'chori'], 'status': 'multiple engagements'}\n"
     ]
    }
   ],
   "source": [
    "student={\n",
    "2:'first',\n",
    "\"name\": \"bishal\",\n",
    "\"age\":\"21\",\n",
    "\"courses\":[\"ladkibaji\",\"chori\"]\n",
    "}\n",
    "print(student)\n",
    "print(dir(student))\n",
    "student[\"status\"]=\"multiple engagements\"\n",
    "print(student)\n",
    "del student[\"age\"]\n",
    "print(student)\n"
   ]
  },
  {
   "cell_type": "code",
   "execution_count": 13,
   "id": "13df8134",
   "metadata": {},
   "outputs": [
    {
     "name": "stdout",
     "output_type": "stream",
     "text": [
      "exists\n"
     ]
    }
   ],
   "source": [
    "if \"bishal\" in student.values():\n",
    "    print(\"exists\")\n",
    "else:\n",
    "    print(\"not exist\")"
   ]
  },
  {
   "cell_type": "code",
   "execution_count": 14,
   "id": "39701135",
   "metadata": {},
   "outputs": [
    {
     "name": "stdout",
     "output_type": "stream",
     "text": [
      "2\n",
      "name\n",
      "courses\n",
      "status\n",
      "2 : first\n",
      "name : bishal\n",
      "courses : ['ladkibaji', 'chori']\n",
      "status : multiple engagements\n"
     ]
    }
   ],
   "source": [
    "for key in student:\n",
    "    print(key)\n",
    "for key,values in student.items():\n",
    "    print(f'{key} : {values}')"
   ]
  },
  {
   "cell_type": "code",
   "execution_count": null,
   "id": "07ceef49",
   "metadata": {},
   "outputs": [],
   "source": []
  }
 ],
 "metadata": {
  "kernelspec": {
   "display_name": "Python 3",
   "language": "python",
   "name": "python3"
  },
  "language_info": {
   "codemirror_mode": {
    "name": "ipython",
    "version": 3
   },
   "file_extension": ".py",
   "mimetype": "text/x-python",
   "name": "python",
   "nbconvert_exporter": "python",
   "pygments_lexer": "ipython3",
   "version": "3.13.5"
  }
 },
 "nbformat": 4,
 "nbformat_minor": 5
}
