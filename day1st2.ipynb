{
 "cells": [
  {
   "cell_type": "code",
   "execution_count": 7,
   "id": "9490815c",
   "metadata": {},
   "outputs": [
    {
     "name": "stdout",
     "output_type": "stream",
     "text": [
      "4\n",
      "22\n"
     ]
    }
   ],
   "source": [
    "print(2+2)\n",
    "print(\"2\"+\"2\")"
   ]
  },
  {
   "cell_type": "code",
   "execution_count": 8,
   "id": "be180d7b",
   "metadata": {},
   "outputs": [
    {
     "name": "stdout",
     "output_type": "stream",
     "text": [
      "4.2\n"
     ]
    }
   ],
   "source": [
    "print(1.2+3)"
   ]
  },
  {
   "cell_type": "code",
   "execution_count": 10,
   "id": "b46810ba",
   "metadata": {},
   "outputs": [
    {
     "name": "stdout",
     "output_type": "stream",
     "text": [
      "10\n"
     ]
    },
    {
     "data": {
      "text/plain": [
       "int"
      ]
     },
     "execution_count": 10,
     "metadata": {},
     "output_type": "execute_result"
    }
   ],
   "source": [
    "a=10\n",
    "print(a)\n",
    "type(a)"
   ]
  },
  {
   "cell_type": "code",
   "execution_count": 11,
   "id": "e3a54ab8",
   "metadata": {},
   "outputs": [
    {
     "name": "stdout",
     "output_type": "stream",
     "text": [
      "ronish\n"
     ]
    },
    {
     "data": {
      "text/plain": [
       "str"
      ]
     },
     "execution_count": 11,
     "metadata": {},
     "output_type": "execute_result"
    }
   ],
   "source": [
    "s=\"ronish\"\n",
    "print(s)\n",
    "type(s)"
   ]
  },
  {
   "cell_type": "code",
   "execution_count": 12,
   "id": "9ac4acef",
   "metadata": {},
   "outputs": [
    {
     "name": "stdout",
     "output_type": "stream",
     "text": [
      "ronish\n"
     ]
    },
    {
     "data": {
      "text/plain": [
       "str"
      ]
     },
     "execution_count": 12,
     "metadata": {},
     "output_type": "execute_result"
    }
   ],
   "source": [
    "s='ronish'\n",
    "print(s)\n",
    "type(s)"
   ]
  },
  {
   "cell_type": "code",
   "execution_count": 13,
   "id": "321aedcd",
   "metadata": {},
   "outputs": [
    {
     "name": "stdout",
     "output_type": "stream",
     "text": [
      "\"ronish\"\n"
     ]
    },
    {
     "data": {
      "text/plain": [
       "str"
      ]
     },
     "execution_count": 13,
     "metadata": {},
     "output_type": "execute_result"
    }
   ],
   "source": [
    "s=\"\\\"ronish\\\"\"\n",
    "print(s)\n",
    "type(s)"
   ]
  },
  {
   "cell_type": "code",
   "execution_count": 17,
   "id": "1342d815",
   "metadata": {},
   "outputs": [
    {
     "name": "stdout",
     "output_type": "stream",
     "text": [
      "name: ronish\n",
      "age: 21\n",
      "roll: 19\n",
      "ronish 21 19\n",
      "ronish\n"
     ]
    }
   ],
   "source": [
    "name=\"ronish\"\n",
    "age=\"21\"\n",
    "roll=\"19\"\n",
    "print(\"name: \"+name + \"\\nage: \"+age+ \"\\nroll: \"+ roll)\n",
    "print(name,age,roll)\n",
    "print(f\"{name}\")"
   ]
  },
  {
   "cell_type": "code",
   "execution_count": 18,
   "id": "2b2a9603",
   "metadata": {},
   "outputs": [
    {
     "name": "stdout",
     "output_type": "stream",
     "text": [
      "10 20 30\n"
     ]
    }
   ],
   "source": [
    "a,b,c= 10,20,30\n",
    "print(a,b,c)"
   ]
  },
  {
   "cell_type": "code",
   "execution_count": 23,
   "id": "0acec1b8",
   "metadata": {},
   "outputs": [
    {
     "name": "stdout",
     "output_type": "stream",
     "text": [
      "(9+17j)\n",
      "2.0 10.0\n"
     ]
    }
   ],
   "source": [
    "x=2+7j\n",
    "y=7+10j\n",
    "print(x+y)\n",
    "print(x.real,y.imag)"
   ]
  },
  {
   "cell_type": "code",
   "execution_count": 24,
   "id": "b341f9c6",
   "metadata": {},
   "outputs": [
    {
     "name": "stdout",
     "output_type": "stream",
     "text": [
      "(2-7j)\n"
     ]
    }
   ],
   "source": [
    "print(x.conjugate())"
   ]
  },
  {
   "cell_type": "code",
   "execution_count": 28,
   "id": "5c013903",
   "metadata": {},
   "outputs": [
    {
     "name": "stdout",
     "output_type": "stream",
     "text": [
      "12\n"
     ]
    },
    {
     "data": {
      "text/plain": [
       "str"
      ]
     },
     "execution_count": 28,
     "metadata": {},
     "output_type": "execute_result"
    }
   ],
   "source": [
    "a=input()\n",
    "print(a)\n",
    "type(a)"
   ]
  },
  {
   "cell_type": "code",
   "execution_count": 34,
   "id": "9fd11f3d",
   "metadata": {},
   "outputs": [
    {
     "name": "stdout",
     "output_type": "stream",
     "text": [
      "12\n"
     ]
    }
   ],
   "source": [
    "a=input(\"k xa kabreli sabdhi?\")\n",
    "print(a)\n"
   ]
  },
  {
   "cell_type": "code",
   "execution_count": 36,
   "id": "814d42e9",
   "metadata": {},
   "outputs": [
    {
     "name": "stdout",
     "output_type": "stream",
     "text": [
      "elligible\n"
     ]
    }
   ],
   "source": [
    "a=28\n",
    "if int(a)>18:\n",
    "    print(\"elligible\")"
   ]
  },
  {
   "cell_type": "code",
   "execution_count": 38,
   "id": "40c77ec9",
   "metadata": {},
   "outputs": [
    {
     "name": "stdout",
     "output_type": "stream",
     "text": [
      "ro\n"
     ]
    }
   ],
   "source": [
    "c=\"ron\"\n",
    "print(c[0:2])"
   ]
  },
  {
   "cell_type": "code",
   "execution_count": null,
   "id": "8f231f1d",
   "metadata": {},
   "outputs": [
    {
     "name": "stdout",
     "output_type": "stream",
     "text": [
      "  ys oe o\n",
      "yob revol hsuya   \n"
     ]
    }
   ],
   "source": [
    "q=\"ayush lover boy\"\n",
    "print(q[0::2])\n",
    "print(q[::-1])"
   ]
  },
  {
   "cell_type": "code",
   "execution_count": 47,
   "id": "b9e27e90",
   "metadata": {},
   "outputs": [
    {
     "name": "stdout",
     "output_type": "stream",
     "text": [
      "   ayush lover boy\n",
      "   AYUSH LOVER BOY\n",
      "ayush lover boy\n",
      "   Ayush Lover Boy\n",
      "   ayush lover paglu\n",
      "['ayush', 'lover', 'boy']\n",
      "['', '', '', 'ayush', 'lover', 'boy']\n"
     ]
    }
   ],
   "source": [
    "q=\"   ayush lover boy\"\n",
    "print(q.lower())\n",
    "print(q.upper())\n",
    "print(q.strip())\n",
    "print(q.title())\n",
    "print(q.replace(\"boy\",\"paglu\"))\n",
    "print(q.split())\n",
    "print(q.split(\" \",-1))"
   ]
  },
  {
   "cell_type": "code",
   "execution_count": 48,
   "id": "b99ce5cf",
   "metadata": {},
   "outputs": [
    {
     "name": "stdout",
     "output_type": "stream",
     "text": [
      "   ayush lover boy\n"
     ]
    }
   ],
   "source": [
    "q.replace(\"boy\",\"paglu\")\n",
    "print(q)"
   ]
  },
  {
   "cell_type": "code",
   "execution_count": null,
   "id": "1ae13b3b",
   "metadata": {},
   "outputs": [],
   "source": []
  }
 ],
 "metadata": {
  "kernelspec": {
   "display_name": "Python 3",
   "language": "python",
   "name": "python3"
  },
  "language_info": {
   "codemirror_mode": {
    "name": "ipython",
    "version": 3
   },
   "file_extension": ".py",
   "mimetype": "text/x-python",
   "name": "python",
   "nbconvert_exporter": "python",
   "pygments_lexer": "ipython3",
   "version": "3.13.5"
  }
 },
 "nbformat": 4,
 "nbformat_minor": 5
}
